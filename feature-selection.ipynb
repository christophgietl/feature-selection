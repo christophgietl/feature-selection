{
 "cells": [
  {
   "cell_type": "markdown",
   "id": "20ce0d57-167f-423b-a40a-3f4c86f01c9b",
   "metadata": {
    "slideshow": {
     "slide_type": "slide"
    },
    "tags": []
   },
   "source": [
    "<div id=\"titlepage\">\n",
    "    <h1 style=\"line-height: 1.5em; margin-bottom: 80px\">\n",
    "        Feature-Selection am Beispiel<br/>\n",
    "        des Datensatzes &raquo;20 Newsgroups&laquo;\n",
    "    </h1>\n",
    "    <table style=\"font-size: 20px; margin: 0; text-align: left\">\n",
    "        <tr style=\"background: none\">\n",
    "            <th style=\"border-style: none; padding-left: 2px\">Vorlesung</th>\n",
    "            <td style=\"border-style: none\">Advanced Data Science Pipelines</td>\n",
    "        </tr>\n",
    "        <tr style=\"background: none\">\n",
    "            <th style=\"border-style: none; padding-left: 2px\">Dozent</th>\n",
    "            <td style=\"border-style: none\">Christoph Gietl</td>\n",
    "        </tr>\n",
    "        <tr style=\"background: none\">\n",
    "            <th style=\"border-style: none; padding-left: 2px\">Datum</th>\n",
    "            <td style=\"border-style: none\">14. Juni 2021</td>\n",
    "        </tr>\n",
    "        <tr style=\"background: none\">\n",
    "            <th style=\"border-style: none; padding-left: 2px\">Folien</th>\n",
    "            <td style=\"border-style: none\"><a href=\"https://christophgietl.github.io/feature-selection\">christophgietl.github.io/feature-selection</a></td>\n",
    "        </tr>\n",
    "        <tr style=\"background: none\">\n",
    "            <th style=\"border-style: none; padding-left: 2px\">Code</th>\n",
    "            <td style=\"border-style: none\"><a href=\"https://github.com/christophgietl/feature-selection\">github.com/christophgietl/feature-selection</a></td>\n",
    "        </tr>\n",
    "    </table>\n",
    "</div>"
   ]
  },
  {
   "cell_type": "code",
   "execution_count": 1,
   "id": "8b4c72d9-b437-40b0-bbad-89315c31c4ad",
   "metadata": {
    "slideshow": {
     "slide_type": "skip"
    },
    "tags": []
   },
   "outputs": [],
   "source": [
    "import matplotlib.pyplot\n",
    "import numpy\n",
    "import random\n",
    "import sklearn.datasets\n",
    "import sklearn.feature_extraction.text\n",
    "import sklearn.feature_selection\n",
    "import sklearn.linear_model\n",
    "import sklearn.metrics\n",
    "import sklearn.model_selection\n",
    "import sklearn.naive_bayes\n",
    "import sklearn.pipeline\n",
    "import sklearn.svm"
   ]
  },
  {
   "cell_type": "markdown",
   "id": "2d87ed08-c653-474b-8ec3-09d4f6a70682",
   "metadata": {
    "slideshow": {
     "slide_type": "notes"
    },
    "tags": []
   },
   "source": [
    "## Über diese Vorlesung\n",
    "\n",
    "- Zielgruppe: 5. bis 7. Semester im Studiengang _Data Science & Scientific Computing_\n",
    "- Fachgruppe: WPF Data-Science\n",
    "- Vorkenntnisse\n",
    "    - grundlegende Kenntnisse in Python und scikit-learn\n",
    "    - Maschinelles Lernen (2. Semester)\n",
    "    - Datenaufbereitung & Visualisierung (2. Semester)\n",
    "- Lernziele\n",
    "    - Kennenlernen und Anwendung von\n",
    "        - fortgeschrittener Methoden des Maschinellen Lernens\n",
    "        - Best-Practices aus dem Bereich _Reproducible Data-Science_\n",
    "    - im Beruf\n",
    "        - einzeln und im Team komplexe, unstrukturierte und unsaubere Datensätze analysieren zu können\n",
    "        - Code und Artefakte aus jedem Analyseprozessschritt teilen und archivieren\n",
    "- Inhalt\n",
    "    - Fortgeschrittene Datenvorverarbeitung\n",
    "    - Fortgeschrittene Supervised-Learning-Verfahren\n",
    "        - Modellregularisierung in Regression und Klassifikation\n",
    "        - Ensemble-Learning\n",
    "        - Multiclass- und Multilabel-Probleme\n",
    "        - Modellkalibrierung\n",
    "    - Modellevaluation\n",
    "        - Auswahl geeigneter Metriken\n",
    "        - Visualisierung von Metriken und Lernfortschritt\n",
    "    - Strategien für den Umgang mit großen Datenmengen\n",
    "        - Datenhaltung außerhalb des Arbeitsspeichers\n",
    "        - Online-Learning\n",
    "        - Feature-Selection\n",
    "    - Persistierung und Deployment von Modellen"
   ]
  },
  {
   "cell_type": "markdown",
   "id": "a5ae6848-f257-45ab-8c32-b8ec21aa5a70",
   "metadata": {
    "slideshow": {
     "slide_type": "subslide"
    },
    "tags": []
   },
   "source": [
    "### Bisher bei Advanced Data Science Pipelines &hellip;\n",
    "\n",
    "- Datenvorverarbeitung\n",
    "    - Feature-Extraktion (strukturierte und unstrukturierte Daten)\n",
    "    - Imputation fehlender Werte\n",
    "- fortgeschrittene Supervised-Learning-Methoden\n",
    "    - Modellregularisierung (zur Vermeidung von Overfitting, L1 und L2)\n",
    "    - Ensemble-Learning\n",
    "    - Modellkalibrierung\n",
    "    - Umgang mit Multi-Class- und Multi-Label-Problemen\n",
    "- Modellevaluation\n",
    "    - Auswahl geeigneter Metriken\n",
    "    - Visualisierung von Metriken und Lernfortschritt"
   ]
  },
  {
   "cell_type": "markdown",
   "id": "06c88e29-59b5-4619-b43a-fa6ead8b48d0",
   "metadata": {
    "slideshow": {
     "slide_type": "notes"
    },
    "tags": []
   },
   "source": [
    "### Zwischenfragen erwünscht\n",
    "\n",
    "- schwierig wahrzunehmen\n",
    "    - Chat\n",
    "    - virtuelles Handheben\n",
    "    - physisches Handheben\n",
    "- stattdessen bitte einfach\n",
    "    - entstummen\n",
    "    - mich unterbrechen\n",
    "    - Frage stellen"
   ]
  },
  {
   "cell_type": "markdown",
   "id": "1f5af8cf-8e39-43f2-988b-c3c945867de7",
   "metadata": {
    "slideshow": {
     "slide_type": "slide"
    },
    "tags": []
   },
   "source": [
    "<h2>Datensatz &raquo;20 Newsgroups&laquo; und<br/>Ziel der Modellierung</h2>"
   ]
  },
  {
   "cell_type": "markdown",
   "id": "21995e9c-347b-4ea7-9691-9efcb2fb9f39",
   "metadata": {
    "slideshow": {
     "slide_type": "subslide"
    },
    "tags": []
   },
   "source": [
    "### Hintergrund des Datensatzes: Usenet\n",
    "\n",
    "- historischer Internet-Dienst (neben World-Wide-Web, E-Mail und anderen Diensten)\n",
    "- unterteilt in zahlreiche Diskussionsforen (sogenannte Newsgroups)\n",
    "- Nachrichtenformat ähnlich zu E-Mail\n",
    "    - Kopfzeilen\n",
    "    - Signaturen\n",
    "    - Zitate"
   ]
  },
  {
   "cell_type": "markdown",
   "id": "0a99e98d-635f-41b4-af22-f5118707a828",
   "metadata": {
    "slideshow": {
     "slide_type": "subslide"
    },
    "tags": []
   },
   "source": [
    "### Datenquelle und Datenformat"
   ]
  },
  {
   "cell_type": "code",
   "execution_count": 2,
   "id": "4da2da21-cba8-42d1-91ba-b78ec7740457",
   "metadata": {},
   "outputs": [],
   "source": [
    "ng20 = sklearn.datasets.fetch_20newsgroups(\n",
    "    # Der Datensatz wurde bereits in Subsets \"train\" und \"test\" unterteilt.\n",
    "    # Lade den gesamten Datensatz:\n",
    "    subset=\"all\",\n",
    "    \n",
    "    # Wir unterteilen den Datensatz später selbst.\n",
    "    # Mische den Datensatz gut durch:\n",
    "    random_state=42,\n",
    "    shuffle=True,\n",
    "    \n",
    "    # Entferne Kopfzeilen, Signaturen und Zitate,\n",
    "    # um die Zuordnung von Nachrichten zu Personen zu erschweren:\n",
    "    remove=[\"headers\", \"footers\", \"quotes\"]\n",
    ")"
   ]
  },
  {
   "cell_type": "code",
   "execution_count": 3,
   "id": "789cd4e9-7a3b-4528-82f6-f2566f59faee",
   "metadata": {},
   "outputs": [
    {
     "data": {
      "text/plain": [
       "(list, numpy.ndarray, list)"
      ]
     },
     "execution_count": 3,
     "metadata": {},
     "output_type": "execute_result"
    }
   ],
   "source": [
    "type(ng20.data), type(ng20.target), type(ng20.target_names)"
   ]
  },
  {
   "cell_type": "code",
   "execution_count": 4,
   "id": "45457f53-dd7a-4c58-a129-c119fca0edd7",
   "metadata": {},
   "outputs": [
    {
     "data": {
      "text/plain": [
       "(18846, 18846, 20)"
      ]
     },
     "execution_count": 4,
     "metadata": {},
     "output_type": "execute_result"
    }
   ],
   "source": [
    "len(ng20.data), len(ng20.target), len(ng20.target_names)"
   ]
  },
  {
   "cell_type": "markdown",
   "id": "2b1cb74e-9cc7-443a-9071-87623bd0fa9a",
   "metadata": {
    "slideshow": {
     "slide_type": "notes"
    },
    "tags": []
   },
   "source": [
    "#### Code-Beispiele\n",
    "\n",
    "- Wie immer gehe ich schnell über den Code hinweg.\n",
    "- Nicht jede einzelne Zeile muss sofort verstanden werden.\n",
    "- Wichtige Code-Stellen werden mit dem Mauszeiger hervorgehoben."
   ]
  },
  {
   "cell_type": "markdown",
   "id": "47d461b4-b324-48d1-8497-d78e9069fd9d",
   "metadata": {
    "slideshow": {
     "slide_type": "subslide"
    },
    "tags": []
   },
   "source": [
    "#### Input-Daten (erklärende Variablen)"
   ]
  },
  {
   "cell_type": "code",
   "execution_count": 5,
   "id": "61bdf088-c324-4106-bfdb-ae78031d58b7",
   "metadata": {},
   "outputs": [
    {
     "data": {
      "text/plain": [
       "{str}"
      ]
     },
     "execution_count": 5,
     "metadata": {},
     "output_type": "execute_result"
    }
   ],
   "source": [
    "types = set(type(item) for item in ng20.data)\n",
    "types"
   ]
  },
  {
   "cell_type": "code",
   "execution_count": 6,
   "id": "fe428e05-6bdb-41a8-86e0-68c7fb11322c",
   "metadata": {},
   "outputs": [
    {
     "data": {
      "text/plain": [
       "(0, 158791)"
      ]
     },
     "execution_count": 6,
     "metadata": {},
     "output_type": "execute_result"
    }
   ],
   "source": [
    "lengths = [len(item) for item in ng20.data]\n",
    "min(lengths), max(lengths)"
   ]
  },
  {
   "cell_type": "code",
   "execution_count": 7,
   "id": "74c28f2a-47ab-4efe-8dd4-8c77950cb908",
   "metadata": {},
   "outputs": [
    {
     "data": {
      "text/plain": [
       "(1169.7, 3858.6)"
      ]
     },
     "execution_count": 7,
     "metadata": {},
     "output_type": "execute_result"
    }
   ],
   "source": [
    "numpy.mean(lengths).round(1), numpy.std(lengths).round(1)"
   ]
  },
  {
   "cell_type": "markdown",
   "id": "8af82bdb-fb7a-4725-8628-ec2cbd57065c",
   "metadata": {
    "slideshow": {
     "slide_type": "subslide"
    },
    "tags": []
   },
   "source": [
    "#### Output-Daten (Zielvariable)"
   ]
  },
  {
   "cell_type": "code",
   "execution_count": 8,
   "id": "95850460-0dd5-4830-91e0-a0961a9b3a9c",
   "metadata": {},
   "outputs": [
    {
     "data": {
      "text/plain": [
       "(array([ 0,  1,  2,  3,  4,  5,  6,  7,  8,  9, 10, 11, 12, 13, 14, 15, 16,\n",
       "        17, 18, 19]),\n",
       " array([799, 973, 985, 982, 963, 988, 975, 990, 996, 994, 999, 991, 984,\n",
       "        990, 987, 997, 910, 940, 775, 628]))"
      ]
     },
     "execution_count": 8,
     "metadata": {},
     "output_type": "execute_result"
    }
   ],
   "source": [
    "numpy.unique(ng20.target, return_counts=True)"
   ]
  },
  {
   "cell_type": "code",
   "execution_count": 9,
   "id": "0533c402-e729-418c-b144-1169c7089caa",
   "metadata": {},
   "outputs": [
    {
     "name": "stdout",
     "output_type": "stream",
     "text": [
      "['alt.atheism', 'comp.graphics', 'comp.os.ms-windows.misc', 'comp.sys.ibm.pc.hardware', 'comp.sys.mac.hardware', 'comp.windows.x', 'misc.forsale', 'rec.autos', 'rec.motorcycles', 'rec.sport.baseball', 'rec.sport.hockey', 'sci.crypt', 'sci.electronics', 'sci.med', 'sci.space', 'soc.religion.christian', 'talk.politics.guns', 'talk.politics.mideast', 'talk.politics.misc', 'talk.religion.misc']\n"
     ]
    }
   ],
   "source": [
    "print(ng20.target_names)"
   ]
  },
  {
   "cell_type": "markdown",
   "id": "49ad0a57-e831-4b96-bcaf-714aeadebc51",
   "metadata": {
    "slideshow": {
     "slide_type": "subslide"
    },
    "tags": []
   },
   "source": [
    "#### Beispielnachricht aus dem Datensatz (Input- und Output-Daten)"
   ]
  },
  {
   "cell_type": "code",
   "execution_count": 10,
   "id": "e0feb8a3-9c3e-4f69-8e33-9b37f1c9922d",
   "metadata": {},
   "outputs": [
    {
     "name": "stdout",
     "output_type": "stream",
     "text": [
      "\n",
      "Not when your talking about cryptography.\n",
      "\n",
      "\n",
      "Think again.  You won't see me using apple's new signature from the\n",
      "finder feature.\n",
      "\n",
      "\n",
      "This analogy fails in its assumption that the government gives two\n",
      "squirts about credibility.\n",
      "\n",
      "\n",
      "In addition, Apple's proclaimed purpose in releasing the Macintosh wasn't\n",
      "survellience.\n",
      "\n",
      "Quite the opposite:\n",
      "\"On January 24, Apple will introduce.... Macintosh, and you'll see why\n",
      "1984 won't be, like '1984'\"\n"
     ]
    }
   ],
   "source": [
    "print(ng20.data[4_328][:434])"
   ]
  },
  {
   "cell_type": "code",
   "execution_count": 11,
   "id": "38b87991-79f8-478b-beb2-fc650a60ebd4",
   "metadata": {
    "tags": []
   },
   "outputs": [
    {
     "data": {
      "text/plain": [
       "(11, 'sci.crypt')"
      ]
     },
     "execution_count": 11,
     "metadata": {},
     "output_type": "execute_result"
    }
   ],
   "source": [
    "ng20.target[4_328], ng20.target_names[ng20.target[4_328]]"
   ]
  },
  {
   "cell_type": "markdown",
   "id": "4ac965c1-ab33-49d8-8381-42235e86f583",
   "metadata": {
    "slideshow": {
     "slide_type": "subslide"
    },
    "tags": []
   },
   "source": [
    "### Ziel der Modellierung: Thematischer Textklassifikator\n",
    "\n",
    "- nimmt Texte entgegen\n",
    "- ordnet sie jeweils einem der 20 Themen zu (entsprechend den 20 Newsgroups)"
   ]
  },
  {
   "cell_type": "markdown",
   "id": "c12da67c-7837-42c3-bfe8-fef8c486e7cc",
   "metadata": {
    "slideshow": {
     "slide_type": "slide"
    },
    "tags": []
   },
   "source": [
    "## Datenmodellierung unter Verwendung bisheriger Kenntnisse"
   ]
  },
  {
   "cell_type": "markdown",
   "id": "7988102c-3fa4-4d41-b08b-a44aea31ace6",
   "metadata": {
    "slideshow": {
     "slide_type": "subslide"
    },
    "tags": []
   },
   "source": [
    "### Preprocessing der Daten"
   ]
  },
  {
   "cell_type": "code",
   "execution_count": 12,
   "id": "68d77136-8cf7-476e-af07-fd86ed8167da",
   "metadata": {},
   "outputs": [],
   "source": [
    "# Aufteilung des Datensatzes in Trainings- und Testdaten:\n",
    "X_train, X_test, y_train, y_test = sklearn.model_selection.train_test_split(\n",
    "    ng20.data,\n",
    "    ng20.target,\n",
    "    random_state=42,\n",
    "    stratify=ng20.target, # gleiche relative Klassenhfgktn. in Trainings- und Testdaten\n",
    "    test_size=2_000       # nötig für aussagekräftige Metriken bei 20 Klassen\n",
    ")"
   ]
  },
  {
   "cell_type": "code",
   "execution_count": 13,
   "id": "c50fb469-cfe4-4611-a2bb-184205abd6d9",
   "metadata": {},
   "outputs": [
    {
     "data": {
      "text/plain": [
       "(array([ 0,  1,  2,  3,  4,  5,  6,  7,  8,  9, 10, 11, 12, 13, 14, 15, 16,\n",
       "        17, 18, 19]),\n",
       " array([714, 870, 880, 878, 861, 883, 872, 885, 890, 889, 893, 886, 880,\n",
       "        885, 882, 891, 813, 840, 693, 561]))"
      ]
     },
     "execution_count": 13,
     "metadata": {},
     "output_type": "execute_result"
    }
   ],
   "source": [
    "# Balance der Trainingsdaten:\n",
    "numpy.unique(y_train, return_counts=True)"
   ]
  },
  {
   "cell_type": "code",
   "execution_count": 14,
   "id": "bdadcd36-a7fa-462c-a9ff-004457b315a1",
   "metadata": {},
   "outputs": [
    {
     "data": {
      "text/plain": [
       "(array([ 0,  1,  2,  3,  4,  5,  6,  7,  8,  9, 10, 11, 12, 13, 14, 15, 16,\n",
       "        17, 18, 19]),\n",
       " array([ 85, 103, 105, 104, 102, 105, 103, 105, 106, 105, 106, 105, 104,\n",
       "        105, 105, 106,  97, 100,  82,  67]))"
      ]
     },
     "execution_count": 14,
     "metadata": {},
     "output_type": "execute_result"
    }
   ],
   "source": [
    "# Balance der Testdaten:\n",
    "numpy.unique(y_test, return_counts=True)"
   ]
  },
  {
   "cell_type": "markdown",
   "id": "d177ddb2-5e17-4d97-b4c6-a984289032f6",
   "metadata": {
    "slideshow": {
     "slide_type": "subslide"
    },
    "tags": []
   },
   "source": [
    "### Feature-Extraction mittels TF-IDF-Vectorizer"
   ]
  },
  {
   "cell_type": "code",
   "execution_count": 15,
   "id": "07c4f606-55b1-4add-9189-4f53688ab7d6",
   "metadata": {},
   "outputs": [],
   "source": [
    "# Der TF-IDF-Vectorizer transformiert Listen von Strings (=Texten) in Matrizen:\n",
    "xtrct = sklearn.feature_extraction.text.TfidfVectorizer(\n",
    "    stop_words=\"english\" # Wörter wie \"the\" und \"is\" werden nicht berücksichtigt.\n",
    ")"
   ]
  },
  {
   "cell_type": "code",
   "execution_count": 16,
   "id": "bd900934-a309-4985-91df-d6c7dc4988ec",
   "metadata": {},
   "outputs": [],
   "source": [
    "# Der Naive-Bayes-Klassifikator hat sich im Bereich Textklassifikation etabliert: \n",
    "clssf_nb = sklearn.naive_bayes.ComplementNB()"
   ]
  },
  {
   "cell_type": "code",
   "execution_count": 17,
   "id": "0d6685bf-1f18-43e7-8240-a45fafbb5807",
   "metadata": {},
   "outputs": [],
   "source": [
    "# Verbinde Feature-Extractor und Klassifikator zu einer Pipeline:\n",
    "ppln = sklearn.pipeline.Pipeline([\n",
    "    (\"xtrct\", xtrct),\n",
    "    (\"clssf\", clssf_nb)\n",
    "])"
   ]
  },
  {
   "cell_type": "markdown",
   "id": "4c79f56e-fb5f-4b16-a312-359fbcca3bca",
   "metadata": {
    "slideshow": {
     "slide_type": "subslide"
    },
    "tags": []
   },
   "source": [
    "### Modellanpassung"
   ]
  },
  {
   "cell_type": "code",
   "execution_count": 18,
   "id": "d8797fa5-2589-4108-883a-ce9a93ad4678",
   "metadata": {
    "tags": []
   },
   "outputs": [
    {
     "name": "stdout",
     "output_type": "stream",
     "text": [
      "Fitting 5 folds for each of 5 candidates, totalling 25 fits\n",
      "\n",
      "Parameters:       [{'clssf__alpha': 0.01}, {'clssf__alpha': 0.03}, {'clssf__alpha': 0.1}, {'clssf__alpha': 0.3}, {'clssf__alpha': 1.0}]\n",
      "Mean train score: [0.998 0.997 0.997 0.995 0.993]\n",
      "Mean test score:  [0.973 0.975 0.977 0.976 0.974]\n"
     ]
    }
   ],
   "source": [
    "# Wiederverwendbare Logik zur Anpassung von Pipelines an den Datensatz (X_train, y_train):\n",
    "def cross_validate_and_fit(estimator, param_grid):\n",
    "    gscv = sklearn.model_selection.GridSearchCV(\n",
    "        estimator=estimator,\n",
    "        n_jobs=3,\n",
    "        param_grid=param_grid,\n",
    "        return_train_score=True,\n",
    "        # Die gewichtete Area Under the Curve ist eine stabile Metrik\n",
    "        # zum Tuning von Multiclass-Klassifikatoren:\n",
    "        scoring=\"roc_auc_ovr_weighted\",\n",
    "        verbose=9\n",
    "    )\n",
    "    gscv.fit(X_train, y_train)\n",
    "    print()\n",
    "    \n",
    "    print(f\"Parameters:       {gscv.cv_results_['params']}\")\n",
    "    print(f\"Mean train score: {gscv.cv_results_['mean_train_score'].round(3)}\")\n",
    "    print(f\"Mean test score:  {gscv.cv_results_['mean_test_score'].round(3)}\")\n",
    "    \n",
    "    return gscv\n",
    "\n",
    "\n",
    "tuned_ppln = cross_validate_and_fit(\n",
    "    estimator=ppln,\n",
    "    param_grid={\"clssf__alpha\": [0.01, 0.03, 0.1, 0.3, 1.0]} # Regularisier. d. NB-Klass.\n",
    ")"
   ]
  },
  {
   "cell_type": "markdown",
   "id": "7deb1d6d-ba24-4e1e-85ab-90e6bf9e85c6",
   "metadata": {
    "slideshow": {
     "slide_type": "notes"
    },
    "tags": []
   },
   "source": [
    "#### Bemerkung: Naive-Bayes-Klassifikator\n",
    "\n",
    "- wurde im Rahmen der Vorlesung bis jetzt nicht behandelt\n",
    "- bewährtes Modell im Rahmen der Textklassifikation"
   ]
  },
  {
   "cell_type": "markdown",
   "id": "8e2dc2ec-9fb7-4461-b4bc-93beba06a651",
   "metadata": {
    "slideshow": {
     "slide_type": "subslide"
    },
    "tags": []
   },
   "source": [
    "### Evaluation der Pipeline"
   ]
  },
  {
   "cell_type": "code",
   "execution_count": 19,
   "id": "4020bcc0-41c9-4800-a890-268918178017",
   "metadata": {},
   "outputs": [],
   "source": [
    "# Wiederverwendbare Logik zur Ausgabe einer sortierten Stichprobe aus einer Liste:\n",
    "def print_sorted_samples(lst):\n",
    "    rng = numpy.random.default_rng(seed=42)\n",
    "    samples = rng.choice(lst, replace=False, size=100)\n",
    "    samples.sort()\n",
    "    print(samples)"
   ]
  },
  {
   "cell_type": "markdown",
   "id": "5fad1a5e-84c4-4860-8769-2b500187c60d",
   "metadata": {
    "slideshow": {
     "slide_type": "subslide"
    },
    "tags": []
   },
   "source": [
    "#### Features (vom Extractor erzeugt)"
   ]
  },
  {
   "cell_type": "code",
   "execution_count": 20,
   "id": "9f520140-4dca-4065-9742-3a334e5c0e1e",
   "metadata": {
    "tags": []
   },
   "outputs": [
    {
     "data": {
      "text/plain": [
       "127345"
      ]
     },
     "execution_count": 20,
     "metadata": {},
     "output_type": "execute_result"
    }
   ],
   "source": [
    "feature_names = tuned_ppln.best_estimator_.named_steps[\"xtrct\"].get_feature_names()\n",
    "len(feature_names)"
   ]
  },
  {
   "cell_type": "code",
   "execution_count": 21,
   "id": "2217b4c4-9e91-4575-8ed5-c7580f6064b1",
   "metadata": {
    "tags": []
   },
   "outputs": [
    {
     "name": "stdout",
     "output_type": "stream",
     "text": [
      "['2024' '3388' '3999' '417' '4tq1jv' '5286' '578' '5e8g4' '5pv'\n",
      " '83jx0dadf' '87___________________' '93109' '_cheap_' '_rqpp4db' 'a4gc0'\n",
      " 'ak' 'anafranil' 'ap8h' 'arromdian' 'bench' 'benes' 'booktitle'\n",
      " 'circumstantial' 'comparitive' 'cyberspace' 'delia' 'despised' 'dxsx'\n",
      " 'eighth' 'ellison' 'endlessly' 'endprocedure' 'f0j' 'fjpbkbpu' 'frame'\n",
      " 'glucoma' 'goofy' 'grad' 'gravis' 'gukasian' 'gyv' 'hallandale'\n",
      " 'hallucinating' 'hippi' 'homelessness' 'howell' 'hyqe' 'institutional'\n",
      " 'interplanetary' 'janney' 'k2mv5805t' 'kzm' 'l4y4j2' 'leedom' 'lmrcr1o'\n",
      " 'mtm' 'multipath' 'myopia' 'nb6c' 'noble' 'oi_w_' 'orthogonal'\n",
      " 'overwhelming' 'owen' 'p90t' 'pendelum' 'petah' 'petcock' 'ppw' 'q6p1i'\n",
      " 'quiet' 'qwt' 'redneck' 'regent' 'reincarnated' 'restrains' 'ripem'\n",
      " 'roelle' 'rq9' 'rythm' 'scatter' 'serials' 'sng' 'spaceward' 'sq9wmgk'\n",
      " 'squalid' 'stg' 'strategic' 't5k1' 't5m19' 'trp' 'tyrant' 'ug3'\n",
      " 'uniformed' 'vdu' 'victimized' 'walkie' 'xhm' 'xoutput_info'\n",
      " 'xtungrabpointer']\n"
     ]
    }
   ],
   "source": [
    "print_sorted_samples(feature_names)"
   ]
  },
  {
   "cell_type": "markdown",
   "id": "92f3e7a5-5a51-4804-8021-b1172425bd1b",
   "metadata": {
    "slideshow": {
     "slide_type": "subslide"
    },
    "tags": []
   },
   "source": [
    "#### Koeffizienten des Klassifikators"
   ]
  },
  {
   "cell_type": "code",
   "execution_count": 22,
   "id": "7def332e-03a8-47f3-9df7-16a263688ce5",
   "metadata": {},
   "outputs": [
    {
     "data": {
      "text/plain": [
       "(20, 127345)"
      ]
     },
     "execution_count": 22,
     "metadata": {},
     "output_type": "execute_result"
    }
   ],
   "source": [
    "coefficients = tuned_ppln.best_estimator_.named_steps[\"clssf\"].feature_log_prob_\n",
    "coefficients.shape"
   ]
  },
  {
   "cell_type": "code",
   "execution_count": 23,
   "id": "128ddb05-0b42-46f8-9abd-51788645094c",
   "metadata": {},
   "outputs": [
    {
     "data": {
      "text/plain": [
       "(2546900, False)"
      ]
     },
     "execution_count": 23,
     "metadata": {},
     "output_type": "execute_result"
    }
   ],
   "source": [
    "numpy.prod(coefficients.shape), (coefficients==0).any()"
   ]
  },
  {
   "cell_type": "markdown",
   "id": "fac7bf7a-a6b3-406d-87ed-a627eaf7d1f5",
   "metadata": {
    "slideshow": {
     "slide_type": "subslide"
    },
    "tags": []
   },
   "source": [
    "### Neues Ziel der Modellierung: _Kompakter_ thematischer Textklassifikator\n",
    "\n",
    "- nimmt Texte entgegen\n",
    "- ordnet sie jeweils einem der 20 Themen zu (entsprechend den 20 Newsgroups)\n",
    "- _**Auditierbarkeit:** Entscheidungsprozess für Stakeholder:innen innerhalb und außerhalb des Unternehmens nachvollziehbar und dokumentiert_"
   ]
  },
  {
   "cell_type": "markdown",
   "id": "74191bfa-cccf-4895-b110-fa42a7198c99",
   "metadata": {
    "slideshow": {
     "slide_type": "fragment"
    },
    "tags": []
   },
   "source": [
    "#### Hindernis\n",
    "\n",
    "Zu viele Features und Koeffizienten\n",
    "- erschweren Dokumentation und\n",
    "- verhindern Nachvollziehbarkeit."
   ]
  },
  {
   "cell_type": "markdown",
   "id": "b0b9b840-ab99-44ae-b3c7-6755681b2473",
   "metadata": {
    "slideshow": {
     "slide_type": "slide"
    },
    "tags": []
   },
   "source": [
    "## Einführung in die Feature-Selection"
   ]
  },
  {
   "cell_type": "markdown",
   "id": "3881ab3c-17c5-45ba-ac53-5146498d7834",
   "metadata": {
    "slideshow": {
     "slide_type": "subslide"
    },
    "tags": []
   },
   "source": [
    "### Grundgedanke der Feature-Selection\n",
    "\n",
    "- Idee\n",
    "    - Entferne &raquo;unnütze&laquo; Features vor der Anpassung des finalen Modells.\n",
    "    - Behalte nur die &raquo;nützlichen&laquo; Features.\n",
    "- Ziel: kompaktes Modell\n",
    "- Vorteile\n",
    "    - schnellere Berechnung der Vorhersagen\n",
    "    - bessere Interpretierbarkeit\n",
    "- Nachteile\n",
    "    - in der Regel höhere Trainingszeit\n",
    "    - in der Regel (geringfügig) schlechtere Vorhersagequalität\n",
    "- Anwendungsgebiete\n",
    "    - Datensätze mit vielen Features _(bspw. in der Bioinformatik)_\n",
    "    - aufwendige Datenerfassung _(bspw. Labortests oder Fragebögen)_\n",
    "    - Bedarf nach interpretierbaren Modellen<br/>_(bspw. wg. regulator. Anforderungen o. zur Verbesserung des Vertrauens)_\n",
    "    - Deployment auf Maschinen mit eingeschränkter Rechenleistung<br/>_(bspw. im Internet-of-Things-Umfeld)_"
   ]
  },
  {
   "cell_type": "markdown",
   "id": "d6dc6375-a3ac-4a2d-8b05-407269d5c29d",
   "metadata": {
    "slideshow": {
     "slide_type": "subslide"
    },
    "tags": []
   },
   "source": [
    "### Feature-Selection-Methoden im Überblick\n",
    "\n",
    "#### Filter-Methoden\n",
    "\n",
    "- Algorithmus\n",
    "    - Berechne für jedes Feature die Interaktion mit der Zielvariablen.\n",
    "    - Entferne alle Features, deren Interaktionswert unterhalb einer bestimmten Schwelle liegt.\n",
    "- Schwierigkeit\n",
    "    - Auswahl des geeigneten Interaktionsmaßes\n",
    "        - diskrete vs. kontinuierliche Variablen\n",
    "        - lineare vs. nichtlineare Interaktion\n",
    "- Vorteile\n",
    "    - schnelle Berechnung\n",
    "    - numerische Stabilität\n",
    "    - gute Skalierbarkeit\n",
    "- Nachteile\n",
    "    - keine Berücksichtigung des Modells\n",
    "    - mögliche Entfernung von Features, die für das Modell wichtig sind\n",
    "- Empfehlung\n",
    "    - vorsichtig verwenden\n",
    "    - nicht zu viele Features entfernen"
   ]
  },
  {
   "cell_type": "markdown",
   "id": "3c8e4742-ba58-4d18-ba40-859b96c8c78c",
   "metadata": {
    "slideshow": {
     "slide_type": "subslide"
    },
    "tags": []
   },
   "source": [
    "#### Wrapper-Methoden\n",
    "\n",
    "- Idee\n",
    "    - Passe Modell auf einer Teilmenge der Features an.\n",
    "    - Bewerte die Modellqualität.\n",
    "    - Verbessere die Teilmenge der Features iterativ.\n",
    "- Vorteil\n",
    "    - Features, die nur in Kombination nützlich sind, können beibehalten werden.\n",
    "- Nachteil\n",
    "    - teure Berechnung"
   ]
  },
  {
   "cell_type": "markdown",
   "id": "60e15642-1e93-4ae2-afeb-9da8d52492aa",
   "metadata": {
    "slideshow": {
     "slide_type": "subslide"
    },
    "tags": []
   },
   "source": [
    "#### Embedded-Methoden\n",
    "\n",
    "- Idee: Modell trifft während des Trainings eine Auswahl der Features.\n",
    "- Beispiele\n",
    "    - Entscheidungsbäume\n",
    "    - lineare Modelle mit L1-Regularisierung\n",
    "- Vorteil\n",
    "    - schnelle Berechnung\n",
    "    - Auswahl von Features, die für das Modell nützlich sind\n",
    "- Nachteil\n",
    "    - weniger mächtig als Wrapper-Methoden"
   ]
  },
  {
   "cell_type": "markdown",
   "id": "fc93a08e-dfb6-4c6e-a649-de00e4d189c2",
   "metadata": {
    "slideshow": {
     "slide_type": "slide"
    },
    "tags": []
   },
   "source": [
    "<h2>Erweiterung der Modell-Pipeline<br/>um Feature-Selection</h2>"
   ]
  },
  {
   "cell_type": "markdown",
   "id": "7bcdf3d9-2477-4a6c-b99a-eee1c4314006",
   "metadata": {
    "slideshow": {
     "slide_type": "subslide"
    },
    "tags": []
   },
   "source": [
    "### Evaluation verschiedener Feature-Selection-Methoden"
   ]
  },
  {
   "cell_type": "markdown",
   "id": "ca801be7-bfe8-46e5-be0f-f1801128d18b",
   "metadata": {
    "tags": []
   },
   "source": [
    "#### Filter-Methode mit Chi-Quadrat-Statistik"
   ]
  },
  {
   "cell_type": "code",
   "execution_count": 24,
   "id": "3f88a1fd-514e-4e61-a325-2cb24165da0b",
   "metadata": {},
   "outputs": [
    {
     "name": "stdout",
     "output_type": "stream",
     "text": [
      "Fitting 5 folds for each of 7 candidates, totalling 35 fits\n",
      "\n",
      "Parameters:       [{'clssf__alpha': 0.1, 'slct__k': 100}, {'clssf__alpha': 0.1, 'slct__k': 300}, {'clssf__alpha': 0.1, 'slct__k': 1000}, {'clssf__alpha': 0.1, 'slct__k': 3000}, {'clssf__alpha': 0.1, 'slct__k': 10000}, {'clssf__alpha': 0.1, 'slct__k': 30000}, {'clssf__alpha': 0.1, 'slct__k': 'all'}]\n",
      "Mean train score: [0.865 0.924 0.96  0.978 0.991 0.996 0.997]\n",
      "Mean test score:  [0.861 0.918 0.95  0.965 0.973 0.976 0.977]\n"
     ]
    }
   ],
   "source": [
    "slct_kbest_chi2 = sklearn.feature_selection.SelectKBest(\n",
    "    score_func=sklearn.feature_selection.chi2\n",
    ")\n",
    "ppln_fltr = sklearn.pipeline.Pipeline([\n",
    "    (\"xtrct\", xtrct),\n",
    "    (\"slct\", slct_kbest_chi2),\n",
    "    (\"clssf\", clssf_nb)\n",
    "])\n",
    "tuned_ppln_fltr = cross_validate_and_fit(\n",
    "    estimator=ppln_fltr,\n",
    "    param_grid={\n",
    "        \"slct__k\": [100, 300, 1_000, 3_000, 10_000, 30_000, \"all\"],\n",
    "        \"clssf__alpha\": [0.1]\n",
    "    }\n",
    ")"
   ]
  },
  {
   "cell_type": "markdown",
   "id": "728e332a-be09-478a-bd2a-a1d1b5e7658a",
   "metadata": {
    "slideshow": {
     "slide_type": "subslide"
    },
    "tags": []
   },
   "source": [
    "#### Wrapper-Methoden\n",
    "\n",
    "- kommen nicht infrage\n",
    "- rechnerisch zu aufwendig aufgrund der hohen Feature-Zahl"
   ]
  },
  {
   "cell_type": "markdown",
   "id": "5dafa911-3900-46d7-91b3-8e2e4613875e",
   "metadata": {
    "slideshow": {
     "slide_type": "subslide"
    },
    "tags": []
   },
   "source": [
    "#### Embedded-Methoden"
   ]
  },
  {
   "cell_type": "markdown",
   "id": "b383a169-3043-4b42-9d39-08378e73f4cd",
   "metadata": {},
   "source": [
    "##### Logistische Regression mit L1-Regularisierung"
   ]
  },
  {
   "cell_type": "code",
   "execution_count": 25,
   "id": "97052bfc-2907-4479-859d-d56ff3afd1b3",
   "metadata": {},
   "outputs": [
    {
     "name": "stdout",
     "output_type": "stream",
     "text": [
      "Fitting 5 folds for each of 1 candidates, totalling 5 fits\n",
      "\n",
      "Parameters:       [{'clssf__C': 0.6}]\n",
      "Mean train score: [0.951]\n",
      "Mean test score:  [0.937]\n"
     ]
    }
   ],
   "source": [
    "clssf_lr = sklearn.linear_model.LogisticRegression(\n",
    "    penalty=\"l1\",\n",
    "    random_state=42,\n",
    "    solver=\"liblinear\"\n",
    ")\n",
    "ppln_embd_lr = sklearn.pipeline.Pipeline([\n",
    "    (\"xtrct\", xtrct),\n",
    "    (\"clssf\", clssf_lr)\n",
    "])\n",
    "tuned_ppln_embd_lr = cross_validate_and_fit(\n",
    "    estimator = ppln_embd_lr,\n",
    "    param_grid={\"clssf__C\": [0.6]}\n",
    ")"
   ]
  },
  {
   "cell_type": "code",
   "execution_count": 26,
   "id": "b8fec335-0b13-4325-999a-a0fe5f913876",
   "metadata": {
    "slideshow": {
     "slide_type": "subslide"
    },
    "tags": []
   },
   "outputs": [
    {
     "data": {
      "text/plain": [
       "(20, 127345)"
      ]
     },
     "execution_count": 26,
     "metadata": {},
     "output_type": "execute_result"
    }
   ],
   "source": [
    "coefficients = tuned_ppln_embd_lr.best_estimator_.named_steps[\"clssf\"].coef_\n",
    "coefficients.shape"
   ]
  },
  {
   "cell_type": "code",
   "execution_count": 27,
   "id": "9797d6c2-7457-49ec-8450-f99d03eefe9b",
   "metadata": {},
   "outputs": [
    {
     "data": {
      "text/plain": [
       "1113"
      ]
     },
     "execution_count": 27,
     "metadata": {},
     "output_type": "execute_result"
    }
   ],
   "source": [
    "feature_has_non_zero_coefficient = (coefficients!=0).any(axis=0)\n",
    "feature_has_non_zero_coefficient.sum()"
   ]
  },
  {
   "cell_type": "markdown",
   "id": "1aeb41db-7177-40ca-a55b-af943de91800",
   "metadata": {
    "slideshow": {
     "slide_type": "subslide"
    },
    "tags": []
   },
   "source": [
    "##### Logistische Regression mit L1-Regularisierung und anschließendem Naive-Bayes"
   ]
  },
  {
   "cell_type": "code",
   "execution_count": 28,
   "id": "39849cfe-8999-4a50-899d-20147fff0d8d",
   "metadata": {},
   "outputs": [
    {
     "name": "stdout",
     "output_type": "stream",
     "text": [
      "Fitting 5 folds for each of 1 candidates, totalling 5 fits\n",
      "\n",
      "Parameters:       [{'clssf__alpha': 0.1, 'slct__estimator__C': 0.6}]\n",
      "Mean train score: [0.963]\n",
      "Mean test score:  [0.951]\n"
     ]
    }
   ],
   "source": [
    "slct_mdl_lr = sklearn.feature_selection.SelectFromModel(\n",
    "    estimator=clssf_lr\n",
    ")\n",
    "ppln_embd_lr_nb = sklearn.pipeline.Pipeline([\n",
    "    (\"xtrct\", xtrct),\n",
    "    (\"slct\", slct_mdl_lr),\n",
    "    (\"clssf\", clssf_nb)\n",
    "])\n",
    "tuned_ppln_embd_lr_nb = cross_validate_and_fit(\n",
    "    estimator=ppln_embd_lr_nb,\n",
    "    param_grid={\n",
    "        \"slct__estimator__C\": [0.6],\n",
    "        \"clssf__alpha\": [0.1]\n",
    "    }\n",
    ")"
   ]
  },
  {
   "cell_type": "code",
   "execution_count": 29,
   "id": "3e83b8a6-ad36-4106-b2ff-b25c30b4a08f",
   "metadata": {},
   "outputs": [
    {
     "data": {
      "text/plain": [
       "1113"
      ]
     },
     "execution_count": 29,
     "metadata": {},
     "output_type": "execute_result"
    }
   ],
   "source": [
    "tuned_ppln_embd_lr_nb.best_estimator_.named_steps[\"slct\"].get_support().sum()"
   ]
  },
  {
   "cell_type": "markdown",
   "id": "c4fb26af-4060-4888-81c6-804d9d352e40",
   "metadata": {
    "slideshow": {
     "slide_type": "subslide"
    },
    "tags": []
   },
   "source": [
    "### Extraktion der selektierten Features der Filter-Methode"
   ]
  },
  {
   "cell_type": "code",
   "execution_count": 30,
   "id": "7e1df0f4-6948-4b96-8f5d-065e83cec00a",
   "metadata": {},
   "outputs": [
    {
     "name": "stdout",
     "output_type": "stream",
     "text": [
      "Fitting 5 folds for each of 1 candidates, totalling 5 fits\n",
      "\n",
      "Parameters:       [{'clssf__alpha': 0.1, 'slct__k': 1000}]\n",
      "Mean train score: [0.96]\n",
      "Mean test score:  [0.95]\n"
     ]
    }
   ],
   "source": [
    "# Retuning mit Parameter k=1_000:\n",
    "tuned_ppln_fltr = cross_validate_and_fit(\n",
    "    estimator=ppln_fltr,\n",
    "    param_grid={\n",
    "        \"slct__k\": [1_000],\n",
    "        \"clssf__alpha\": [0.1]\n",
    "    }\n",
    ")"
   ]
  },
  {
   "cell_type": "code",
   "execution_count": 31,
   "id": "c95312db-bb3d-42e6-a8ca-79f4e2fcba57",
   "metadata": {},
   "outputs": [
    {
     "data": {
      "text/plain": [
       "{'clssf__alpha': 0.1, 'slct__k': 1000}"
      ]
     },
     "execution_count": 31,
     "metadata": {},
     "output_type": "execute_result"
    }
   ],
   "source": [
    "tuned_ppln_fltr.best_params_"
   ]
  },
  {
   "cell_type": "code",
   "execution_count": 32,
   "id": "fda7c5a9-e2f6-40f5-bd57-5288840206fa",
   "metadata": {
    "slideshow": {
     "slide_type": "subslide"
    },
    "tags": []
   },
   "outputs": [
    {
     "data": {
      "text/plain": [
       "(array([False,  True]), array([126345,   1000]))"
      ]
     },
     "execution_count": 32,
     "metadata": {},
     "output_type": "execute_result"
    }
   ],
   "source": [
    "feature_names = tuned_ppln_fltr.best_estimator_.named_steps[\"xtrct\"].get_feature_names()\n",
    "is_selected = tuned_ppln_fltr.best_estimator_.named_steps[\"slct\"].get_support()\n",
    "numpy.unique(is_selected, return_counts=True)"
   ]
  },
  {
   "cell_type": "code",
   "execution_count": 33,
   "id": "4cfa5c75-b29f-458a-bf1c-d345fd78dd10",
   "metadata": {},
   "outputs": [
    {
     "name": "stdout",
     "output_type": "stream",
     "text": [
      "['apostles' 'atheist' 'authority' 'baerga' 'barrasso' 'bat' 'bcci' 'bike'\n",
      " 'bos' 'bruins' 'canucks' 'cars' 'centris' 'champs' 'christian' 'clemens'\n",
      " 'clh' 'client' 'convertible' 'crime' 'data' 'disease' 'ear' 'ethernet'\n",
      " 'exploration' 'father' 'finland' 'fonts' 'formats' 'funding' 'gas'\n",
      " 'goalie' 'gretzky' 'handguns' 'hartford' 'hitting' 'holocaust'\n",
      " 'homosexuals' 'hst' 'iici' 'iisi' 'interested' 'irgun' 'islanders'\n",
      " 'istanbul' 'jesus' 'jobs' 'jumpers' 'kent' 'lebanon' 'love' 'macintosh'\n",
      " 'metzger' 'murray' 'muslims' 'n3jxp' 'occupied' 'orthodox' 'output'\n",
      " 'palestinians' 'peace' 'penalties' 'performa' 'physician' 'pin'\n",
      " 'pittsburgh' 'playing' 'pocklington' 'policy' 'president' 'printer'\n",
      " 'private' 'program' 'promiscuous' 'radio' 'ripem' 'rocket' 'run' 'runner'\n",
      " 'russian' 's1' 'se' 'security' 'shack' 'shameful' 'shuttle' 'sins'\n",
      " 'soldiers' 'ssto' 'syria' 'teaching' 'tek' 'terminals' 'trust' 'turkish'\n",
      " 'upgrade' 'vitamin' 'weapons' 'whalers' 'wiretap']\n"
     ]
    }
   ],
   "source": [
    "selected_features = [feature for idx, feature in enumerate(feature_names) if is_selected[idx]]\n",
    "print_sorted_samples(selected_features)"
   ]
  },
  {
   "cell_type": "markdown",
   "id": "931001c5-1128-4876-93df-e502ca9f55ed",
   "metadata": {
    "slideshow": {
     "slide_type": "subslide"
    },
    "tags": []
   },
   "source": [
    "### Vereinfachung des TF-IDF-Vectorizers"
   ]
  },
  {
   "cell_type": "code",
   "execution_count": 34,
   "id": "250079f4-09c1-4534-91e4-5544ca6a93bb",
   "metadata": {},
   "outputs": [
    {
     "name": "stdout",
     "output_type": "stream",
     "text": [
      "Fitting 5 folds for each of 5 candidates, totalling 25 fits\n",
      "\n",
      "Parameters:       [{'clssf__alpha': 0.003}, {'clssf__alpha': 0.01}, {'clssf__alpha': 0.03}, {'clssf__alpha': 0.1}, {'clssf__alpha': 0.3}]\n",
      "Mean train score: [0.964 0.963 0.963 0.963 0.963]\n",
      "Mean test score:  [0.955 0.955 0.955 0.956 0.956]\n"
     ]
    }
   ],
   "source": [
    "smpl_xtrct = sklearn.feature_extraction.text.TfidfVectorizer(vocabulary=selected_features)\n",
    "smpl_ppln = sklearn.pipeline.Pipeline([\n",
    "    (\"xtrct\", smpl_xtrct),\n",
    "    (\"clssf\", clssf_nb)\n",
    "])\n",
    "tuned_smpl_ppln = cross_validate_and_fit(\n",
    "    estimator=smpl_ppln,\n",
    "    # Prüfe andere Reg'parameter aufgrund verringerter Feature-Anzahl:\n",
    "    param_grid={\"clssf__alpha\": [0.003, 0.01, 0.03, 0.1, 0.3]}\n",
    ")"
   ]
  },
  {
   "cell_type": "code",
   "execution_count": 35,
   "id": "28ef355f-0c7f-4f82-9a6b-b9e1fc224b6f",
   "metadata": {},
   "outputs": [
    {
     "data": {
      "text/plain": [
       "0.9539291734838561"
      ]
     },
     "execution_count": 35,
     "metadata": {},
     "output_type": "execute_result"
    }
   ],
   "source": [
    "tuned_smpl_ppln.score(X_test, y_test)"
   ]
  },
  {
   "cell_type": "markdown",
   "id": "df8571fc-34f1-4433-bc79-4202ed51aca2",
   "metadata": {
    "slideshow": {
     "slide_type": "subslide"
    },
    "tags": []
   },
   "source": [
    "### Plausibilitätsprüfung der vereinfachten Pipeline"
   ]
  },
  {
   "cell_type": "code",
   "execution_count": 36,
   "id": "b4065450-c88b-466f-aee9-c09f832f2ce9",
   "metadata": {},
   "outputs": [
    {
     "data": {
      "text/plain": [
       "<sklearn.metrics._plot.confusion_matrix.ConfusionMatrixDisplay at 0x12b948040>"
      ]
     },
     "execution_count": 36,
     "metadata": {},
     "output_type": "execute_result"
    },
    {
     "data": {
      "image/png": "[encoded data removed]",
      "text/plain": [
       "<Figure size 432x288 with 2 Axes>"
      ]
     },
     "metadata": {
      "needs_background": "light"
     },
     "output_type": "display_data"
    }
   ],
   "source": [
    "sklearn.metrics.plot_confusion_matrix(\n",
    "    tuned_smpl_ppln, X_train, y_train,\n",
    "    cmap=matplotlib.pyplot.cm.Greys,\n",
    "    display_labels=ng20.target_names,\n",
    "    include_values=False,\n",
    "    xticks_rotation=\"vertical\"\n",
    ")"
   ]
  },
  {
   "cell_type": "markdown",
   "id": "857bca17-fab5-440a-8166-52d992310f0e",
   "metadata": {
    "slideshow": {
     "slide_type": "subslide"
    },
    "tags": []
   },
   "source": [
    "### Exkurs: Erklärung der &raquo;falschen Atheisten&laquo;"
   ]
  },
  {
   "cell_type": "code",
   "execution_count": 37,
   "id": "de7d279c-e5b6-4629-94c0-a458765fb112",
   "metadata": {},
   "outputs": [],
   "source": [
    "# Berechne Wahrscheinlichkeiten und vorhergesagte Klassen:\n",
    "y_train_prob = tuned_smpl_ppln.predict_proba(X_train)\n",
    "y_train_pred = tuned_smpl_ppln.predict(X_train)"
   ]
  },
  {
   "cell_type": "code",
   "execution_count": 38,
   "id": "aec69be7-de1a-47b6-b871-c33158201f5f",
   "metadata": {},
   "outputs": [
    {
     "data": {
      "text/plain": [
       "(1565,)"
      ]
     },
     "execution_count": 38,
     "metadata": {},
     "output_type": "execute_result"
    }
   ],
   "source": [
    "# Finde alle Samples, die fälschlicherw. der Kategorie 0 (Atheismus) zugeordnet wurden:\n",
    "false_atheists = numpy.logical_and(y_train>0, y_train_pred==0)\n",
    "false_atheist_idcs = numpy.where(false_atheists)[0]\n",
    "false_atheist_idcs.shape"
   ]
  },
  {
   "cell_type": "code",
   "execution_count": 39,
   "id": "26d8cfc3-8c22-4a80-bf8e-c47c578e35df",
   "metadata": {
    "slideshow": {
     "slide_type": "subslide"
    },
    "tags": []
   },
   "outputs": [
    {
     "data": {
      "text/plain": [
       "array([[0.05 , 0.05 , 0.05 , ..., 0.05 , 0.05 , 0.05 ],\n",
       "       [0.05 , 0.05 , 0.05 , ..., 0.05 , 0.05 , 0.05 ],\n",
       "       [0.05 , 0.05 , 0.05 , ..., 0.05 , 0.05 , 0.05 ],\n",
       "       ...,\n",
       "       [0.05 , 0.05 , 0.05 , ..., 0.05 , 0.05 , 0.05 ],\n",
       "       [0.115, 0.044, 0.044, ..., 0.063, 0.046, 0.055],\n",
       "       [0.05 , 0.05 , 0.05 , ..., 0.05 , 0.05 , 0.05 ]])"
      ]
     },
     "execution_count": 39,
     "metadata": {},
     "output_type": "execute_result"
    }
   ],
   "source": [
    "# Betrachte Wahrscheinlichkeiten für diese Samples:\n",
    "false_atheist_probas = y_train_prob[false_atheist_idcs,:]\n",
    "false_atheist_probas.round(3)"
   ]
  },
  {
   "cell_type": "code",
   "execution_count": 40,
   "id": "185e129c-3814-471a-b75f-543ab1403562",
   "metadata": {
    "tags": []
   },
   "outputs": [
    {
     "data": {
      "text/plain": [
       "(array([False,  True]), array([ 110, 1455]))"
      ]
     },
     "execution_count": 40,
     "metadata": {},
     "output_type": "execute_result"
    }
   ],
   "source": [
    "# Welche dieser Samples haben konstante Wahrschinlichkeit für alle Klassen?\n",
    "min_prob_per_sample = false_atheist_probas.min(axis=1)\n",
    "max_prob_per_sample = false_atheist_probas.max(axis=1)\n",
    "sample_has_constant_prob = (min_prob_per_sample == max_prob_per_sample)\n",
    "numpy.unique(sample_has_constant_prob, return_counts=True)"
   ]
  },
  {
   "cell_type": "code",
   "execution_count": 41,
   "id": "973dffe9-a36f-42b8-8249-5997704c8d71",
   "metadata": {
    "slideshow": {
     "slide_type": "subslide"
    },
    "tags": []
   },
   "outputs": [],
   "source": [
    "false_atheists_with_const_prob = false_atheist_idcs[sample_has_constant_prob]"
   ]
  },
  {
   "cell_type": "code",
   "execution_count": 42,
   "id": "9a13ac84-16cf-4bc7-b3b8-0f11c3d71d1e",
   "metadata": {
    "tags": []
   },
   "outputs": [
    {
     "name": "stdout",
     "output_type": "stream",
     "text": [
      "Hey Nick!  I got a bounce from postmaster@bnr.ca, it seems that they've never \n",
      "heard of a user 'npet'.  You should sort these guys out.\n",
      "\n",
      "\n",
      "Tony\n"
     ]
    }
   ],
   "source": [
    "print(X_train[false_atheists_with_const_prob[25]])"
   ]
  },
  {
   "cell_type": "code",
   "execution_count": 43,
   "id": "e2afa417-11a7-4ece-8ad9-40ebbe42382a",
   "metadata": {},
   "outputs": [
    {
     "name": "stdout",
     "output_type": "stream",
     "text": [
      "\n",
      "\n",
      "\n",
      "\n",
      "That's what MCI Mail is for!  (CompuServe also has \"CongressGrams\" (TM).)\n",
      "\n",
      "This is not intended as an advertisement; that really is what MCI Mail WAS\n",
      "intended for (according to their ads).\n"
     ]
    }
   ],
   "source": [
    "print(X_train[false_atheists_with_const_prob[527]])"
   ]
  },
  {
   "cell_type": "code",
   "execution_count": 44,
   "id": "81c0d37c-1b54-4411-a6a3-ad514bd83538",
   "metadata": {
    "tags": []
   },
   "outputs": [
    {
     "name": "stdout",
     "output_type": "stream",
     "text": [
      "\n",
      "                                                          ~~15\n",
      "\n"
     ]
    }
   ],
   "source": [
    "print(X_train[false_atheists_with_const_prob[773]])"
   ]
  },
  {
   "cell_type": "markdown",
   "id": "67f5e74e-ee29-46f8-859b-22ca4789d14b",
   "metadata": {
    "slideshow": {
     "slide_type": "slide"
    },
    "tags": []
   },
   "source": [
    "## Zusammenfassung und Ausblick"
   ]
  },
  {
   "cell_type": "markdown",
   "id": "64134bc5-d21e-4e8a-956a-751dec67a0b7",
   "metadata": {
    "slideshow": {
     "slide_type": "subslide"
    },
    "tags": []
   },
   "source": [
    "### Zusammenfassung\n",
    "\n",
    "- Feature-Selection ermöglicht Anpassung eines Modells auf einer (kleinen) Teilmenge der vorhandenen Features.\n",
    "- Dies spart Rechen- und Speicherressourcen.\n",
    "- Außerdem wird die Interpretierbarkeit verbessert.\n",
    "- Bei der Wahl der Feature-Selection-Methode(n) sind technisches Verständnis und Experimentierfreudigkeit gefragt.\n",
    "\n",
    "### Weiterführende Literatur\n",
    "\n",
    "- [Feature selection (scikit-learn user guide)](https://scikit-learn.org/0.23/modules/feature_selection.html)\n",
    "- A. Zheng, A. Casari: _Feature engineering for machine learning: principles and techniques for data scientists._ O'Reilly, 2018.\n",
    "- I. Guyon, A. Elisseeff: \"An introduction to variable and feature selection.\" _Journal of machine learning research_ 3: 1157-1182.\n",
    "- Y. Saeys, I. Inza, P. Larrañaga: \"A review of feature selection techniques in bioinformatics.\" _Bioinformatics_ 23: 2507-2517."
   ]
  }
 ],
 "metadata": {
  "kernelspec": {
   "display_name": "Python 3",
   "language": "python",
   "name": "python3"
  },
  "language_info": {
   "codemirror_mode": {
    "name": "ipython",
    "version": 3
   },
   "file_extension": ".py",
   "mimetype": "text/x-python",
   "name": "python",
   "nbconvert_exporter": "python",
   "pygments_lexer": "ipython3",
   "version": "3.9.4"
  },
  "toc-autonumbering": false,
  "toc-showcode": false,
  "toc-showmarkdowntxt": false,
  "toc-showtags": false
 },
 "nbformat": 4,
 "nbformat_minor": 5
}
